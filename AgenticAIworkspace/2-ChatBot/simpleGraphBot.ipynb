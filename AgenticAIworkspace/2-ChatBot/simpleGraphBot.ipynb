{
 "cells": [
  {
   "cell_type": "code",
   "execution_count": 2,
   "id": "b5d35048",
   "metadata": {},
   "outputs": [],
   "source": [
    "import os\n",
    "from dotenv import load_dotenv\n",
    "from langchain_groq import ChatGroq\n",
    "from typing_extensions import TypedDict\n",
    "from langgraph.graph import StateGraph, START, END\n",
    "\n",
    "from typing import Annotated\n",
    "from langgraph.graph.message import add_messages\n",
    "\n",
    "os.environ[\"LANGSMITH_PROJECT\"] = \"AgenticAIworkspace\"\n",
    "load_dotenv()\n",
    "groq_key = os.getenv(\"GROQ_API_KEY\")"
   ]
  },
  {
   "cell_type": "code",
   "execution_count": 3,
   "id": "a6974087",
   "metadata": {},
   "outputs": [],
   "source": [
    "class State(TypedDict):\n",
    "    messages: Annotated[list, add_messages]"
   ]
  },
  {
   "cell_type": "code",
   "execution_count": 5,
   "metadata": {},
   "outputs": [],
   "source": [
    "llm = ChatGroq(api_key=groq_key, model=\"llama-3.1-8b-instant\")"
   ]
  },
  {
   "cell_type": "code",
   "execution_count": 6,
   "id": "b86aafe0",
   "metadata": {},
   "outputs": [],
   "source": [
    "def superBot(state:State):\n",
    "    return {\"messages\": [llm.invoke(state[\"messages\"])]}"
   ]
  },
  {
   "cell_type": "code",
   "execution_count": 7,
   "metadata": {},
   "outputs": [],
   "source": [
    "graph = StateGraph(State)\n",
    "# node\n",
    "graph.add_node('superBot', superBot)\n",
    "# edge\n",
    "graph.add_edge(START, 'superBot')\n",
    "graph.add_edge('superBot', END)\n",
    "\n",
    "# compile the graph \n",
    "graph_build = graph.compile()"
   ]
  },
  {
   "cell_type": "code",
   "execution_count": 8,
   "id": "4b872cc9",
   "metadata": {},
   "outputs": [
    {
     "data": {
      "text/plain": [
       "{'messages': [HumanMessage(content='hey my name is abdullah al sazib. i like pirate', additional_kwargs={}, response_metadata={}, id='c564d9fa-f37e-4d01-8e1d-140163234ecd'),\n",
       "  AIMessage(content=\"Nice to meet you, Abdullah al Sazib. Pirates have always been a fascinating topic, with their swashbuckling adventures, hidden treasures, and legendary ships. Who's your favorite pirate? Is it Captain Jack Sparrow from the Pirates of the Caribbean movies, Blackbeard, or maybe Calico Jack Rackham?\\n\\nAlso, would you like to know some interesting pirate facts or maybe learn about the history of piracy?\", additional_kwargs={}, response_metadata={'token_usage': {'completion_tokens': 88, 'prompt_tokens': 50, 'total_tokens': 138, 'completion_time': 0.197816089, 'prompt_time': 0.003807754, 'queue_time': 0.225044955, 'total_time': 0.201623843}, 'model_name': 'llama-3.1-8b-instant', 'system_fingerprint': 'fp_e32974efee', 'service_tier': 'on_demand', 'finish_reason': 'stop', 'logprobs': None}, id='run--d633d82d-0368-4b4b-9350-4b877eb91f96-0', usage_metadata={'input_tokens': 50, 'output_tokens': 88, 'total_tokens': 138})]}"
      ]
     },
     "execution_count": 8,
     "metadata": {},
     "output_type": "execute_result"
    }
   ],
   "source": [
    "graph_build.invoke({\"messages\": \"hey my name is abdullah al sazib. i like pirate\"})"
   ]
  },
  {
   "cell_type": "code",
   "execution_count": 10,
   "id": "f39ed72b",
   "metadata": {},
   "outputs": [
    {
     "name": "stdout",
     "output_type": "stream",
     "text": [
      "{'messages': [HumanMessage(content='hey i play pubg', additional_kwargs={}, response_metadata={}, id='491d7994-787b-49be-9cb2-e7d2fb03e878')]}\n",
      "{'messages': [HumanMessage(content='hey i play pubg', additional_kwargs={}, response_metadata={}, id='491d7994-787b-49be-9cb2-e7d2fb03e878'), AIMessage(content=\"I'm familiar with PUBG (PlayerUnknown's Battlegrounds). It's a popular battle royale game where players are dropped onto an island with up to 99 other players, and the last person or team standing wins.\\n\\nWhat do you want to talk about related to PUBG? Do you:\\n\\n1. Need tips or strategies for improving your gameplay?\\n2. Want to discuss your favorite maps or game modes?\\n3. Share your best (or worst) gaming experiences?\\n4. Ask about new updates or upcoming features?\\n\\nLet me know, and I'll do my best to help!\", additional_kwargs={}, response_metadata={'token_usage': {'completion_tokens': 120, 'prompt_tokens': 40, 'total_tokens': 160, 'completion_time': 0.170148799, 'prompt_time': 0.002165363, 'queue_time': 0.048180677, 'total_time': 0.172314162}, 'model_name': 'llama-3.1-8b-instant', 'system_fingerprint': 'fp_7b3cfae3af', 'service_tier': 'on_demand', 'finish_reason': 'stop', 'logprobs': None}, id='run--0902a871-e622-4be8-814c-67b8a8f6e0ea-0', usage_metadata={'input_tokens': 40, 'output_tokens': 120, 'total_tokens': 160})]}\n"
     ]
    }
   ],
   "source": [
    "for event in graph_build.stream({\"messages\": \"hey i play pubg\"}, stream_mode=\"values\"):\n",
    "    print(event)"
   ]
  },
  {
   "cell_type": "code",
   "execution_count": null,
   "id": "e2f50f90",
   "metadata": {},
   "outputs": [],
   "source": []
  },
  {
   "cell_type": "code",
   "execution_count": null,
   "id": "a8ff0a24",
   "metadata": {},
   "outputs": [],
   "source": []
  },
  {
   "cell_type": "code",
   "execution_count": null,
   "id": "d623c20c",
   "metadata": {},
   "outputs": [],
   "source": []
  },
  {
   "cell_type": "code",
   "execution_count": null,
   "id": "b7757a08",
   "metadata": {},
   "outputs": [],
   "source": []
  }
 ],
 "metadata": {
  "kernelspec": {
   "display_name": ".venv",
   "language": "python",
   "name": "python3"
  },
  "language_info": {
   "codemirror_mode": {
    "name": "ipython",
    "version": 3
   },
   "file_extension": ".py",
   "mimetype": "text/x-python",
   "name": "python",
   "nbconvert_exporter": "python",
   "pygments_lexer": "ipython3",
   "version": "3.12.11"
  }
 },
 "nbformat": 4,
 "nbformat_minor": 5
}

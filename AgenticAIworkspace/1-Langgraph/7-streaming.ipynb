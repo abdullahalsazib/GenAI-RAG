{
 "cells": [
  {
   "cell_type": "code",
   "execution_count": 1,
   "id": "78383a6d",
   "metadata": {},
   "outputs": [],
   "source": [
    "from typing import TypedDict\n",
    "from langgraph.graph import StateGraph, START, END\n",
    "\n",
    "# Reducers\n",
    "from typing import Annotated\n",
    "from langgraph.graph.message import add_messages"
   ]
  },
  {
   "cell_type": "code",
   "execution_count": 2,
   "id": "bd47b8c2",
   "metadata": {},
   "outputs": [],
   "source": [
    "class State(TypedDict):\n",
    "    messages: Annotated[list, add_messages]"
   ]
  },
  {
   "cell_type": "code",
   "execution_count": null,
   "id": "083fd3bc",
   "metadata": {},
   "outputs": [],
   "source": [
    "import os\n",
    "from dotenv import load_dotenv\n",
    "\n",
    "\n",
    "os.environ[\"LANGSMITH_PROJECT\"] = \"AgenticAIworkspace\"\n",
    "load_dotenv()\n",
    "\n",
    "groq_key = os.getenv(\"GROQ_API_KEY\")"
   ]
  },
  {
   "cell_type": "code",
   "execution_count": 4,
   "id": "4f71ed19",
   "metadata": {},
   "outputs": [],
   "source": [
    "from langchain_groq import ChatGroq\n",
    "# Initialize the LLM\n",
    "llm = ChatGroq(api_key=groq_key, model=\"llama-3.1-8b-instant\")"
   ]
  },
  {
   "cell_type": "code",
   "execution_count": 5,
   "id": "5e69b55c",
   "metadata": {},
   "outputs": [],
   "source": [
    "from langgraph.checkpoint.memory import MemorySaver\n",
    "memory = MemorySaver()\n",
    "def superbot(state: State):\n",
    "    return {\"messages\": [llm.invoke(state[\"messages\"])]}"
   ]
  },
  {
   "cell_type": "code",
   "execution_count": 8,
   "id": "a0697193",
   "metadata": {},
   "outputs": [
    {
     "data": {
      "image/png": "[encoded data removed]",
      "text/plain": [
       "<IPython.core.display.Image object>"
      ]
     },
     "metadata": {},
     "output_type": "display_data"
    }
   ],
   "source": [
    "\n",
    "graph = StateGraph(State)\n",
    "\n",
    "# node\n",
    "graph.add_node('superbot', superbot)\n",
    "graph.add_edge(START, \"superbot\")\n",
    "graph.add_edge('superbot', END)\n",
    "\n",
    "graph_builder = graph.compile(checkpointer=memory)\n",
    "\n",
    "# display \n",
    "from IPython.display import Image, display\n",
    "display(Image(graph_builder.get_graph().draw_mermaid_png()))"
   ]
  },
  {
   "cell_type": "code",
   "execution_count": 12,
   "id": "7dee33d7",
   "metadata": {},
   "outputs": [
    {
     "data": {
      "text/plain": [
       "{'messages': [HumanMessage(content='hey my name is abdullah', additional_kwargs={}, response_metadata={}, id='41d0d453-07ff-4f2d-aadc-3c5509872b34'),\n",
       "  AIMessage(content='Nice to meet you, Abdullah. Is there something I can help you with or would you like to chat?', additional_kwargs={}, response_metadata={'token_usage': {'completion_tokens': 23, 'prompt_tokens': 42, 'total_tokens': 65, 'completion_time': 0.022866103, 'prompt_time': 0.002348691, 'queue_time': 0.052684939, 'total_time': 0.025214794}, 'model_name': 'llama-3.1-8b-instant', 'system_fingerprint': 'fp_7b3cfae3af', 'service_tier': 'on_demand', 'finish_reason': 'stop', 'logprobs': None}, id='run--1ace4ee5-25c0-4bb7-87af-70ecec4861ca-0', usage_metadata={'input_tokens': 42, 'output_tokens': 23, 'total_tokens': 65})]}"
      ]
     },
     "execution_count": 12,
     "metadata": {},
     "output_type": "execute_result"
    }
   ],
   "source": [
    "config = {\"configurable\": {\"thread_id\": \"1\"}}\n",
    "graph_builder.invoke({\"messages\": \"hey my name is abdullah\"}, config=config)"
   ]
  },
  {
   "cell_type": "markdown",
   "id": "7431677c",
   "metadata": {},
   "source": [
    "#### Streaming the response with stream method"
   ]
  },
  {
   "cell_type": "code",
   "execution_count": 15,
   "id": "e6329652",
   "metadata": {},
   "outputs": [],
   "source": [
    "config = {\"configurable\": {\"thread_id\": \"2\"}}\n",
    "for chunk in graph_builder.stream({\"messages\": \"hey my name is abdullah\"}, config=config, stream_mode=\"update\"):\n",
    "    print(chunk)"
   ]
  },
  {
   "cell_type": "code",
   "execution_count": 17,
   "id": "8ee3d527",
   "metadata": {},
   "outputs": [
    {
     "name": "stdout",
     "output_type": "stream",
     "text": [
      "{'messages': [HumanMessage(content='hey my name is abdullah', additional_kwargs={}, response_metadata={}, id='ab675845-88b6-48f4-bfc0-5470a02eb9f0'), AIMessage(content='Nice to meet you, Abdullah. Is there something I can help you with or would you like to chat?', additional_kwargs={}, response_metadata={'token_usage': {'completion_tokens': 23, 'prompt_tokens': 42, 'total_tokens': 65, 'completion_time': 0.022762214, 'prompt_time': 0.002175587, 'queue_time': 0.052346518, 'total_time': 0.024937801}, 'model_name': 'llama-3.1-8b-instant', 'system_fingerprint': 'fp_33e8adf159', 'service_tier': 'on_demand', 'finish_reason': 'stop', 'logprobs': None}, id='run--f55612ad-d6c5-4c73-b3ea-c35d32a01932-0', usage_metadata={'input_tokens': 42, 'output_tokens': 23, 'total_tokens': 65}), HumanMessage(content='hey my name is abdullah', additional_kwargs={}, response_metadata={}, id='13182720-3761-4747-8a57-dca374df01d1'), AIMessage(content=\"It looks like we've had this conversation before, Abdullah. No worries, I'm happy to chat with you again. How's your day going so far?\", additional_kwargs={}, response_metadata={'token_usage': {'completion_tokens': 33, 'prompt_tokens': 81, 'total_tokens': 114, 'completion_time': 0.057761155, 'prompt_time': 0.004755121, 'queue_time': 0.052783129, 'total_time': 0.062516276}, 'model_name': 'llama-3.1-8b-instant', 'system_fingerprint': 'fp_7b3cfae3af', 'service_tier': 'on_demand', 'finish_reason': 'stop', 'logprobs': None}, id='run--984a851a-bca4-4967-bdd2-8ee0b3103959-0', usage_metadata={'input_tokens': 81, 'output_tokens': 33, 'total_tokens': 114}), HumanMessage(content='hey my name is abdullah', additional_kwargs={}, response_metadata={}, id='1d7ae36d-46d3-4530-9bd8-ec10b8951d98')]}\n",
      "{'messages': [HumanMessage(content='hey my name is abdullah', additional_kwargs={}, response_metadata={}, id='ab675845-88b6-48f4-bfc0-5470a02eb9f0'), AIMessage(content='Nice to meet you, Abdullah. Is there something I can help you with or would you like to chat?', additional_kwargs={}, response_metadata={'token_usage': {'completion_tokens': 23, 'prompt_tokens': 42, 'total_tokens': 65, 'completion_time': 0.022762214, 'prompt_time': 0.002175587, 'queue_time': 0.052346518, 'total_time': 0.024937801}, 'model_name': 'llama-3.1-8b-instant', 'system_fingerprint': 'fp_33e8adf159', 'service_tier': 'on_demand', 'finish_reason': 'stop', 'logprobs': None}, id='run--f55612ad-d6c5-4c73-b3ea-c35d32a01932-0', usage_metadata={'input_tokens': 42, 'output_tokens': 23, 'total_tokens': 65}), HumanMessage(content='hey my name is abdullah', additional_kwargs={}, response_metadata={}, id='13182720-3761-4747-8a57-dca374df01d1'), AIMessage(content=\"It looks like we've had this conversation before, Abdullah. No worries, I'm happy to chat with you again. How's your day going so far?\", additional_kwargs={}, response_metadata={'token_usage': {'completion_tokens': 33, 'prompt_tokens': 81, 'total_tokens': 114, 'completion_time': 0.057761155, 'prompt_time': 0.004755121, 'queue_time': 0.052783129, 'total_time': 0.062516276}, 'model_name': 'llama-3.1-8b-instant', 'system_fingerprint': 'fp_7b3cfae3af', 'service_tier': 'on_demand', 'finish_reason': 'stop', 'logprobs': None}, id='run--984a851a-bca4-4967-bdd2-8ee0b3103959-0', usage_metadata={'input_tokens': 81, 'output_tokens': 33, 'total_tokens': 114}), HumanMessage(content='hey my name is abdullah', additional_kwargs={}, response_metadata={}, id='1d7ae36d-46d3-4530-9bd8-ec10b8951d98'), AIMessage(content=\"It seems like we're stuck in a loop, Abdullah. You've already mentioned your name twice. Let's start fresh - what's on your mind, or would you like to talk about something in particular?\", additional_kwargs={}, response_metadata={'token_usage': {'completion_tokens': 43, 'prompt_tokens': 130, 'total_tokens': 173, 'completion_time': 0.069602871, 'prompt_time': 0.00702293, 'queue_time': 0.050708756, 'total_time': 0.076625801}, 'model_name': 'llama-3.1-8b-instant', 'system_fingerprint': 'fp_e32974efee', 'service_tier': 'on_demand', 'finish_reason': 'stop', 'logprobs': None}, id='run--8ac95804-daa8-424a-adf0-329b61683367-0', usage_metadata={'input_tokens': 130, 'output_tokens': 43, 'total_tokens': 173})]}\n"
     ]
    }
   ],
   "source": [
    "for chunk in graph_builder.stream({\"messages\": \"hey my name is abdullah\"}, config=config, stream_mode=\"values\"):\n",
    "    print(chunk)"
   ]
  },
  {
   "cell_type": "code",
   "execution_count": 18,
   "id": "7f9f1ecd",
   "metadata": {},
   "outputs": [],
   "source": [
    "for chunk in graph_builder.stream({\"messages\": \"hey my name is abdullah, i love cricket\"}, config=config, stream_mode=\"update\"):\n",
    "    print(chunk)"
   ]
  },
  {
   "cell_type": "code",
   "execution_count": 19,
   "id": "90e6fbf3",
   "metadata": {},
   "outputs": [
    {
     "name": "stdout",
     "output_type": "stream",
     "text": [
      "{'messages': [HumanMessage(content='hey my name is abdullah', additional_kwargs={}, response_metadata={}, id='ab675845-88b6-48f4-bfc0-5470a02eb9f0'), AIMessage(content='Nice to meet you, Abdullah. Is there something I can help you with or would you like to chat?', additional_kwargs={}, response_metadata={'token_usage': {'completion_tokens': 23, 'prompt_tokens': 42, 'total_tokens': 65, 'completion_time': 0.022762214, 'prompt_time': 0.002175587, 'queue_time': 0.052346518, 'total_time': 0.024937801}, 'model_name': 'llama-3.1-8b-instant', 'system_fingerprint': 'fp_33e8adf159', 'service_tier': 'on_demand', 'finish_reason': 'stop', 'logprobs': None}, id='run--f55612ad-d6c5-4c73-b3ea-c35d32a01932-0', usage_metadata={'input_tokens': 42, 'output_tokens': 23, 'total_tokens': 65}), HumanMessage(content='hey my name is abdullah', additional_kwargs={}, response_metadata={}, id='13182720-3761-4747-8a57-dca374df01d1'), AIMessage(content=\"It looks like we've had this conversation before, Abdullah. No worries, I'm happy to chat with you again. How's your day going so far?\", additional_kwargs={}, response_metadata={'token_usage': {'completion_tokens': 33, 'prompt_tokens': 81, 'total_tokens': 114, 'completion_time': 0.057761155, 'prompt_time': 0.004755121, 'queue_time': 0.052783129, 'total_time': 0.062516276}, 'model_name': 'llama-3.1-8b-instant', 'system_fingerprint': 'fp_7b3cfae3af', 'service_tier': 'on_demand', 'finish_reason': 'stop', 'logprobs': None}, id='run--984a851a-bca4-4967-bdd2-8ee0b3103959-0', usage_metadata={'input_tokens': 81, 'output_tokens': 33, 'total_tokens': 114}), HumanMessage(content='hey my name is abdullah', additional_kwargs={}, response_metadata={}, id='1d7ae36d-46d3-4530-9bd8-ec10b8951d98'), AIMessage(content=\"It seems like we're stuck in a loop, Abdullah. You've already mentioned your name twice. Let's start fresh - what's on your mind, or would you like to talk about something in particular?\", additional_kwargs={}, response_metadata={'token_usage': {'completion_tokens': 43, 'prompt_tokens': 130, 'total_tokens': 173, 'completion_time': 0.069602871, 'prompt_time': 0.00702293, 'queue_time': 0.050708756, 'total_time': 0.076625801}, 'model_name': 'llama-3.1-8b-instant', 'system_fingerprint': 'fp_e32974efee', 'service_tier': 'on_demand', 'finish_reason': 'stop', 'logprobs': None}, id='run--8ac95804-daa8-424a-adf0-329b61683367-0', usage_metadata={'input_tokens': 130, 'output_tokens': 43, 'total_tokens': 173}), HumanMessage(content='hey my name is abdullah, i love cricket', additional_kwargs={}, response_metadata={}, id='853a411f-c629-49eb-af36-799fbeed99b9'), AIMessage(content='A sports fan, I like that, Abdullah. Cricket is a fantastic sport with a huge following worldwide. Which team do you support? Are you from a country where cricket is a popular sport, or do you have a favorite international team?', additional_kwargs={}, response_metadata={'token_usage': {'completion_tokens': 49, 'prompt_tokens': 193, 'total_tokens': 242, 'completion_time': 0.082173009, 'prompt_time': 0.010562394, 'queue_time': 0.051164916, 'total_time': 0.092735403}, 'model_name': 'llama-3.1-8b-instant', 'system_fingerprint': 'fp_e32974efee', 'service_tier': 'on_demand', 'finish_reason': 'stop', 'logprobs': None}, id='run--dca81671-b756-4f28-b607-3fd3126d1bf2-0', usage_metadata={'input_tokens': 193, 'output_tokens': 49, 'total_tokens': 242}), HumanMessage(content='hey my name is abdullah, but i also like footbal', additional_kwargs={}, response_metadata={}, id='0a039037-6d90-4a67-9526-041c6134283f')]}\n",
      "{'messages': [HumanMessage(content='hey my name is abdullah', additional_kwargs={}, response_metadata={}, id='ab675845-88b6-48f4-bfc0-5470a02eb9f0'), AIMessage(content='Nice to meet you, Abdullah. Is there something I can help you with or would you like to chat?', additional_kwargs={}, response_metadata={'token_usage': {'completion_tokens': 23, 'prompt_tokens': 42, 'total_tokens': 65, 'completion_time': 0.022762214, 'prompt_time': 0.002175587, 'queue_time': 0.052346518, 'total_time': 0.024937801}, 'model_name': 'llama-3.1-8b-instant', 'system_fingerprint': 'fp_33e8adf159', 'service_tier': 'on_demand', 'finish_reason': 'stop', 'logprobs': None}, id='run--f55612ad-d6c5-4c73-b3ea-c35d32a01932-0', usage_metadata={'input_tokens': 42, 'output_tokens': 23, 'total_tokens': 65}), HumanMessage(content='hey my name is abdullah', additional_kwargs={}, response_metadata={}, id='13182720-3761-4747-8a57-dca374df01d1'), AIMessage(content=\"It looks like we've had this conversation before, Abdullah. No worries, I'm happy to chat with you again. How's your day going so far?\", additional_kwargs={}, response_metadata={'token_usage': {'completion_tokens': 33, 'prompt_tokens': 81, 'total_tokens': 114, 'completion_time': 0.057761155, 'prompt_time': 0.004755121, 'queue_time': 0.052783129, 'total_time': 0.062516276}, 'model_name': 'llama-3.1-8b-instant', 'system_fingerprint': 'fp_7b3cfae3af', 'service_tier': 'on_demand', 'finish_reason': 'stop', 'logprobs': None}, id='run--984a851a-bca4-4967-bdd2-8ee0b3103959-0', usage_metadata={'input_tokens': 81, 'output_tokens': 33, 'total_tokens': 114}), HumanMessage(content='hey my name is abdullah', additional_kwargs={}, response_metadata={}, id='1d7ae36d-46d3-4530-9bd8-ec10b8951d98'), AIMessage(content=\"It seems like we're stuck in a loop, Abdullah. You've already mentioned your name twice. Let's start fresh - what's on your mind, or would you like to talk about something in particular?\", additional_kwargs={}, response_metadata={'token_usage': {'completion_tokens': 43, 'prompt_tokens': 130, 'total_tokens': 173, 'completion_time': 0.069602871, 'prompt_time': 0.00702293, 'queue_time': 0.050708756, 'total_time': 0.076625801}, 'model_name': 'llama-3.1-8b-instant', 'system_fingerprint': 'fp_e32974efee', 'service_tier': 'on_demand', 'finish_reason': 'stop', 'logprobs': None}, id='run--8ac95804-daa8-424a-adf0-329b61683367-0', usage_metadata={'input_tokens': 130, 'output_tokens': 43, 'total_tokens': 173}), HumanMessage(content='hey my name is abdullah, i love cricket', additional_kwargs={}, response_metadata={}, id='853a411f-c629-49eb-af36-799fbeed99b9'), AIMessage(content='A sports fan, I like that, Abdullah. Cricket is a fantastic sport with a huge following worldwide. Which team do you support? Are you from a country where cricket is a popular sport, or do you have a favorite international team?', additional_kwargs={}, response_metadata={'token_usage': {'completion_tokens': 49, 'prompt_tokens': 193, 'total_tokens': 242, 'completion_time': 0.082173009, 'prompt_time': 0.010562394, 'queue_time': 0.051164916, 'total_time': 0.092735403}, 'model_name': 'llama-3.1-8b-instant', 'system_fingerprint': 'fp_e32974efee', 'service_tier': 'on_demand', 'finish_reason': 'stop', 'logprobs': None}, id='run--dca81671-b756-4f28-b607-3fd3126d1bf2-0', usage_metadata={'input_tokens': 193, 'output_tokens': 49, 'total_tokens': 242}), HumanMessage(content='hey my name is abdullah, but i also like footbal', additional_kwargs={}, response_metadata={}, id='0a039037-6d90-4a67-9526-041c6134283f'), AIMessage(content=\"A sports fan with multiple interests, I love it, Abdullah. Cricket and football are both amazing sports with huge followings. While cricket is more popular in some parts of the world, football (or soccer as it's known in some countries) is a global phenomenon. Do you have a favorite football team or league, like the English Premier League or La Liga?\", additional_kwargs={}, response_metadata={'token_usage': {'completion_tokens': 74, 'prompt_tokens': 265, 'total_tokens': 339, 'completion_time': 0.125989279, 'prompt_time': 0.014791764, 'queue_time': 0.047932941, 'total_time': 0.140781043}, 'model_name': 'llama-3.1-8b-instant', 'system_fingerprint': 'fp_ab04adca7d', 'service_tier': 'on_demand', 'finish_reason': 'stop', 'logprobs': None}, id='run--46788374-eea8-4d9d-84ef-86281ff54373-0', usage_metadata={'input_tokens': 265, 'output_tokens': 74, 'total_tokens': 339})]}\n"
     ]
    }
   ],
   "source": [
    "for chunk in graph_builder.stream({\"messages\": \"hey my name is abdullah, but i also like footbal\"}, config=config, stream_mode=\"values\"):\n",
    "    print(chunk)"
   ]
  }
 ],
 "metadata": {
  "kernelspec": {
   "display_name": ".venv",
   "language": "python",
   "name": "python3"
  },
  "language_info": {
   "codemirror_mode": {
    "name": "ipython",
    "version": 3
   },
   "file_extension": ".py",
   "mimetype": "text/x-python",
   "name": "python",
   "nbconvert_exporter": "python",
   "pygments_lexer": "ipython3",
   "version": "3.13.7"
  }
 },
 "nbformat": 4,
 "nbformat_minor": 5
}

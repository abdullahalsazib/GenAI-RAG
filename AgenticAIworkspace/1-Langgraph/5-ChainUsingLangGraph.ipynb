{
 "cells": [
  {
   "cell_type": "code",
   "execution_count": null,
   "id": "198836ff",
   "metadata": {},
   "outputs": [],
   "source": [
    "import os\n",
    "from dotenv import load_dotenv \n",
    "from langchain_groq import ChatGroq\n",
    "from langchain_core.messages import AIMessage, HumanMessage\n",
    "\n",
    "\n",
    "os.environ[\"LANGSMITH_PROJECT\"] = \"AgenticAIworkspace\"\n",
    "load_dotenv()\n",
    "groq_key = os.getenv(\"GROQ_API_KEY\")"
   ]
  },
  {
   "cell_type": "code",
   "execution_count": null,
   "id": "6b55f5dd",
   "metadata": {},
   "outputs": [],
   "source": [
    "messages = [AIMessage(content=\"How can i help today\",name=\"LLMModel\")]\n",
    "\n",
    "messages.append(HumanMessage(content=\"my name is abdullah\", name=\"abdullah\"))\n",
    "messages.append(AIMessage(content=\"Hello Abdullah\", name=\"LLMModel\"))\n",
    "messages.append(HumanMessage(content=\"what is your model name\", name=\"abdullah\"))\n",
    "\n"
   ]
  },
  {
   "cell_type": "code",
   "execution_count": null,
   "id": "a988de98",
   "metadata": {},
   "outputs": [],
   "source": [
    "llm = ChatGroq(api_key=groq_key, model=\"llama-3.1-8b-instant\")"
   ]
  },
  {
   "cell_type": "code",
   "execution_count": null,
   "id": "83b56a8a",
   "metadata": {},
   "outputs": [],
   "source": [
    "# create custom tool to connect toe LLM -> as a Brain 🧠\n",
    "def add(a: int, b: int)-> int:\n",
    "    \"\"\" Add a and b\n",
    "    Args: \n",
    "        a (int) first int\n",
    "        b (int) second int\n",
    "    Return:\n",
    "        int\n",
    "    \"\"\"\n",
    "    return a + b"
   ]
  },
  {
   "cell_type": "code",
   "execution_count": null,
   "id": "338e9a64",
   "metadata": {},
   "outputs": [],
   "source": [
    "## binding llm + tool\n",
    "llm_with_tools=llm.bind_tools([add])\n",
    "\n",
    "tool_call=llm_with_tools.invoke([HumanMessage(content=\"what is 2 plus 2\", name=\"abdullah\")])"
   ]
  },
  {
   "cell_type": "code",
   "execution_count": null,
   "metadata": {},
   "outputs": [],
   "source": [
    "tool_call.tool_calls"
   ]
  },
  {
   "cell_type": "code",
   "execution_count": null,
   "metadata": {},
   "outputs": [],
   "source": [
    "# using messages as state\n",
    "from typing_extensions import TypedDict\n",
    "from langchain_core.messages import AnyMessage\n",
    "\n",
    "class State(TypedDict):\n",
    "    messages: list[AnyMessage]\n"
   ]
  },
  {
   "cell_type": "code",
   "execution_count": null,
   "metadata": {},
   "outputs": [],
   "source": [
    "from langgraph.graph.message import add_messages\n",
    "from typing import Annotated\n",
    "class State(TypedDict):\n",
    "    messages: Annotated[list[AnyMessage], add_messages]"
   ]
  },
  {
   "cell_type": "code",
   "execution_count": null,
   "id": "b9f19291",
   "metadata": {},
   "outputs": [],
   "source": [
    "initial_messages = [AIMessage(content=\"How can i help today\",name=\"LLMModel\")]\n",
    "initial_messages.append(HumanMessage(content=\"my name is abdullah\", name=\"abdullah\"))\n",
    "\n",
    "initial_messages"
   ]
  },
  {
   "cell_type": "code",
   "execution_count": null,
   "id": "853adc81",
   "metadata": {},
   "outputs": [],
   "source": [
    "ai_messages = AIMessage(content=\"Hello Abdullah\", name=\"LLMModel\")\n",
    "ai_messages"
   ]
  },
  {
   "cell_type": "code",
   "execution_count": null,
   "metadata": {},
   "outputs": [],
   "source": [
    "add_messages(initial_messages, ai_messages)"
   ]
  },
  {
   "cell_type": "code",
   "execution_count": null,
   "id": "efce952a",
   "metadata": {},
   "outputs": [],
   "source": [
    "# chat bot node funcnatity\n",
    "def llm_tool(state:State):\n",
    "    return {\"messages\": [llm_with_tools.invoke(state[\"messages\"])]}"
   ]
  },
  {
   "cell_type": "code",
   "execution_count": null,
   "id": "7ebe5233",
   "metadata": {},
   "outputs": [],
   "source": [
    "from IPython.display import display,Image\n",
    "from langgraph.graph import StateGraph, START, END\n",
    "\n",
    "builder = StateGraph(State)\n",
    "builder.add_node(\"llm_tool\", llm_tool)\n",
    "builder.add_edge(START, \"llm_tool\")\n",
    "builder.add_edge(\"llm_tool\", END)\n",
    "\n",
    "graph = builder.compile()\n",
    "\n",
    "display(Image(graph.get_graph().draw_mermaid_png()))\n"
   ]
  },
  {
   "cell_type": "code",
   "execution_count": null,
   "metadata": {},
   "outputs": [],
   "source": [
    "# invocation\n",
    "messages = graph.invoke({\"messages\": \"what is 2 plus 2\"})\n",
    "\n",
    "for message in messages:\n",
    "    print(message)"
   ]
  },
  {
   "cell_type": "code",
   "execution_count": null,
   "id": "751610a4",
   "metadata": {},
   "outputs": [],
   "source": [
    "tools= [add]"
   ]
  },
  {
   "cell_type": "code",
   "execution_count": null,
   "metadata": {},
   "outputs": [],
   "source": [
    "from langgraph.prebuilt import ToolNode\n",
    "from langgraph.prebuilt import tools_condition\n",
    "\n",
    "\n",
    "builder = StateGraph(State)\n",
    "builder.add_node(\"llm_tool\", llm_tool)\n",
    "builder.add_node(\"tools\", ToolNode(tools))\n",
    "# add edge\n",
    "builder.add_edge(START, \"llm_tool\")\n",
    "builder.add_conditional_edges(\"llm_tool\", tools_condition)\n",
    "builder.add_edge(\"tools\", END)\n",
    "\n",
    "graph_builder = builder.compile()"
   ]
  },
  {
   "cell_type": "code",
   "execution_count": null,
   "metadata": {},
   "outputs": [],
   "source": [
    "display(Image(graph_builder.get_graph().draw_mermaid_png()))\n"
   ]
  },
  {
   "cell_type": "code",
   "execution_count": null,
   "id": "0be56006",
   "metadata": {},
   "outputs": [],
   "source": [
    "# invocation\n",
    "from pprint import PrettyPrinter\n",
    "messages = graph_builder.invoke({\"messages\": \"what is 1 plus 2\"})\n",
    "\n",
    "for message in messages[\"messages\"]:\n",
    "    message.pretty_print()"
   ]
  },
  {
   "cell_type": "code",
   "execution_count": null,
   "id": "90cd1040",
   "metadata": {},
   "outputs": [],
   "source": [
    "# invocation\n",
    "from pprint import PrettyPrinter\n",
    "messages = graph_builder.invoke({\"messages\": \" what is machin learning?\"})\n",
    "\n",
    "for message in messages[\"messages\"]:\n",
    "    message.pretty_print()\n",
    "\n",
    "    "
   ]
  }
 ],
 "metadata": {
  "kernelspec": {
   "display_name": ".venv",
   "language": "python",
   "name": "python3"
  },
  "language_info": {
   "codemirror_mode": {
    "name": "ipython",
    "version": 3
   },
   "file_extension": ".py",
   "mimetype": "text/x-python",
   "name": "python",
   "nbconvert_exporter": "python",
   "pygments_lexer": "ipython3",
   "version": "3.13.7"
  }
 },
 "nbformat": 4,
 "nbformat_minor": 5
}

{
 "cells": [
  {
   "cell_type": "code",
   "execution_count": null,
   "id": "40b9fe75",
   "metadata": {},
   "outputs": [],
   "source": [
    "from langchain_chroma import Chroma\n",
    "from langchain_community.document_loaders import TextLoader\n",
    "from langchain_community.embeddings import OllamaEmbeddings\n",
    "from langchain_text_splitters import RecursiveCharacterTextSplitter"
   ]
  },
  {
   "cell_type": "code",
   "execution_count": null,
   "id": "aadab859",
   "metadata": {},
   "outputs": [],
   "source": [
    "loader = TextLoader('speech.txt')\n",
    "data = loader.load()"
   ]
  },
  {
   "cell_type": "code",
   "execution_count": null,
   "id": "a7dd24e3",
   "metadata": {},
   "outputs": [],
   "source": [
    "text_splitter = RecursiveCharacterTextSplitter(chunk_size=1000, chunk_overlap=50)\n",
    "splits = text_splitter.split_documents(data)"
   ]
  },
  {
   "cell_type": "code",
   "execution_count": null,
   "id": "5cdfaa27",
   "metadata": {},
   "outputs": [],
   "source": [
    "embedding = OllamaEmbeddings(model=\"nomic-embed-text:latest\")\n",
    "vectorDB = Chroma.from_documents(documents=splits, embedding=embedding)\n",
    "vectorDB"
   ]
  },
  {
   "cell_type": "code",
   "execution_count": null,
   "id": "90431ca7",
   "metadata": {},
   "outputs": [],
   "source": [
    "## quering\n",
    "query = \"what does the speaks belives is the man reason the united states should enter the war?\"\n",
    "docs = vectorDB.similarity_search(query)\n",
    "docs[0].page_content"
   ]
  },
  {
   "cell_type": "code",
   "execution_count": null,
   "id": "8ce1350b",
   "metadata": {},
   "outputs": [],
   "source": [
    "vectorDB = Chroma.from_documents(documents=splits, embedding=embedding, persist_directory=\"./chroma_db\")"
   ]
  },
  {
   "cell_type": "code",
   "execution_count": null,
   "id": "ebb7794b",
   "metadata": {},
   "outputs": [],
   "source": [
    "## load the data from the chroma db\n",
    "db2 = Chroma(persist_directory=\"./chroma_db\",embedding_function=embedding)\n",
    "query = \"what does the speaks belives is the man reason the united states should enter the war?\"\n",
    "docs = vectorDB.similarity_search(query)\n",
    "print(docs[0].page_content)"
   ]
  },
  {
   "cell_type": "code",
   "execution_count": null,
   "id": "37e509f6",
   "metadata": {},
   "outputs": [],
   "source": [
    "## retriver\n",
    "retriver = vectorDB.as_retriever()\n",
    "print(retriver.invoke(query)[0].page_content)"
   ]
  }
 ],
 "metadata": {
  "kernelspec": {
   "display_name": ".venv",
   "language": "python",
   "name": "python3"
  },
  "language_info": {
   "codemirror_mode": {
    "name": "ipython",
    "version": 3
   },
   "file_extension": ".py",
   "mimetype": "text/x-python",
   "name": "python",
   "nbconvert_exporter": "python",
   "pygments_lexer": "ipython3",
   "version": "3.12.11"
  }
 },
 "nbformat": 4,
 "nbformat_minor": 5
}

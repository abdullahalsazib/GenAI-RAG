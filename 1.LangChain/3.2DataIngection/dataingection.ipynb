{
 "cells": [
  {
   "cell_type": "code",
   "execution_count": null,
   "id": "70bffb68",
   "metadata": {},
   "outputs": [],
   "source": [
    "# text loader\n",
    "from langchain_community.document_loaders import TextLoader\n",
    "loader = TextLoader('./speccs.txt')\n",
    "\n",
    "loader"
   ]
  },
  {
   "cell_type": "code",
   "execution_count": null,
   "id": "e6c0fec0",
   "metadata": {},
   "outputs": [],
   "source": [
    "text_document = loader.load()\n",
    "text_document"
   ]
  },
  {
   "cell_type": "code",
   "execution_count": null,
   "id": "91e5c8bc",
   "metadata": {},
   "outputs": [],
   "source": [
    "# pdf loader\n",
    "from langchain_community.document_loaders import PyPDFLoader\n",
    "\n",
    "loader = PyPDFLoader(\"./mypdf.pdf\")\n",
    "loader\n",
    "docs = loader.load()\n",
    "docs"
   ]
  },
  {
   "cell_type": "code",
   "execution_count": null,
   "id": "d09498dd",
   "metadata": {},
   "outputs": [],
   "source": []
  },
  {
   "cell_type": "code",
   "execution_count": null,
   "id": "f16a7eab",
   "metadata": {},
   "outputs": [],
   "source": [
    "# web based loader\n",
    "import bs4\n",
    "from langchain_community.document_loaders import WebBaseLoader\n",
    "loader = WebBaseLoader(web_paths=(\"https://dosibridge.com\",),bs_kwargs=dict(parse_only=bs4.SoupStrainer(class_=\n",
    "(\"text-2xl sm:text-3xl md:text-4xl lg:text-5xl font-semibold leading-snug\"))))"
   ]
  },
  {
   "cell_type": "code",
   "execution_count": 16,
   "id": "e0c9df68",
   "metadata": {},
   "outputs": [
    {
     "data": {
      "text/plain": [
       "[Document(metadata={'source': 'https://dosibridge.com'}, page_content='Grow Smarter with AI & AutomationWe use Artificial Intelligence (AI) and automation to help businesses work faster, save time, and make better decisions.')]"
      ]
     },
     "execution_count": 16,
     "metadata": {},
     "output_type": "execute_result"
    }
   ],
   "source": [
    "loader.load()"
   ]
  }
 ],
 "metadata": {
  "kernelspec": {
   "display_name": ".venv",
   "language": "python",
   "name": "python3"
  },
  "language_info": {
   "codemirror_mode": {
    "name": "ipython",
    "version": 3
   },
   "file_extension": ".py",
   "mimetype": "text/x-python",
   "name": "python",
   "nbconvert_exporter": "python",
   "pygments_lexer": "ipython3",
   "version": "3.12.11"
  }
 },
 "nbformat": 4,
 "nbformat_minor": 5
}

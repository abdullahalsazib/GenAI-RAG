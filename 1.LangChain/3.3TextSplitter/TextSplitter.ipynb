{
 "cells": [
  {
   "cell_type": "code",
   "execution_count": null,
   "id": "ae290c59",
   "metadata": {},
   "outputs": [],
   "source": [
    "# pdf loader\n",
    "from langchain_community.document_loaders import PyPDFLoader\n",
    "\n",
    "loader = PyPDFLoader(\"./mypdf1.pdf\")\n",
    "loader\n"
   ]
  },
  {
   "cell_type": "code",
   "execution_count": null,
   "id": "2101ae06",
   "metadata": {},
   "outputs": [],
   "source": [
    "docs = loader.load()\n",
    "docs"
   ]
  },
  {
   "cell_type": "code",
   "execution_count": null,
   "id": "79fb1509",
   "metadata": {},
   "outputs": [],
   "source": [
    "from langchain_text_splitters import RecursiveCharacterTextSplitter\n",
    "text_spliter = RecursiveCharacterTextSplitter(chunk_size=500, chunk_overlap=50)\n",
    "\n",
    "final_doc = text_spliter.split_documents(docs)"
   ]
  },
  {
   "cell_type": "code",
   "execution_count": null,
   "id": "e1c39a1a",
   "metadata": {},
   "outputs": [],
   "source": [
    "print(final_doc[0])\n",
    "print(final_doc[1])"
   ]
  },
  {
   "cell_type": "code",
   "execution_count": 11,
   "id": "755ef7e7",
   "metadata": {},
   "outputs": [
    {
     "data": {
      "text/plain": [
       "[Document(metadata={'source': 'specch.txt'}, page_content='The world must be made safe for democracy. Its peace must be planted upon the tested foundations of political liberty. We have no selfish ends to serve. We desire no conquest, no dominion. We seek no indemnities for ourselves, no material compensation for the sacrifices we shall freely make. We are but one of the champions of the rights of mankind. We shall be satisfied when those rights have been made as secure as the faith and the freedom of nations can make them.\\n')]"
      ]
     },
     "execution_count": 11,
     "metadata": {},
     "output_type": "execute_result"
    }
   ],
   "source": [
    "# load the .txt\n",
    "from langchain_community.document_loaders import TextLoader\n",
    "loader = TextLoader(\"specch.txt\")\n",
    "\n",
    "docs = loader.load()\n",
    "docs"
   ]
  },
  {
   "cell_type": "code",
   "execution_count": 16,
   "id": "a5e7681b",
   "metadata": {},
   "outputs": [
    {
     "name": "stdout",
     "output_type": "stream",
     "text": [
      "page_content='The world must be made safe for democracy. Its peace must be planted upon the tested foundations of'\n",
      "page_content='must be planted upon the tested foundations of political liberty. We have no selfish ends to serve.'\n"
     ]
    }
   ],
   "source": [
    "specch= \"\"\n",
    "with open(\"specch.txt\") as f:\n",
    "    specch = f.read()\n",
    "text_spliter = RecursiveCharacterTextSplitter(chunk_size=100, chunk_overlap=50)\n",
    "text = text_spliter.create_documents([specch])\n",
    "print(text[0])\n",
    "print(text[1])"
   ]
  }
 ],
 "metadata": {
  "kernelspec": {
   "display_name": ".venv",
   "language": "python",
   "name": "python3"
  },
  "language_info": {
   "codemirror_mode": {
    "name": "ipython",
    "version": 3
   },
   "file_extension": ".py",
   "mimetype": "text/x-python",
   "name": "python",
   "nbconvert_exporter": "python",
   "pygments_lexer": "ipython3",
   "version": "3.12.11"
  }
 },
 "nbformat": 4,
 "nbformat_minor": 5
}

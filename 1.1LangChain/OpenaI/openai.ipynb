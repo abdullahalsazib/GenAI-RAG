{
 "cells": [
  {
   "cell_type": "code",
   "execution_count": 1,
   "id": "1cf3782e",
   "metadata": {},
   "outputs": [
    {
     "ename": "KeyError",
     "evalue": "'LANGSMITH_API_KEY'",
     "output_type": "error",
     "traceback": [
      "\u001b[31m---------------------------------------------------------------------------\u001b[39m",
      "\u001b[31mKeyError\u001b[39m                                  Traceback (most recent call last)",
      "\u001b[36mCell\u001b[39m\u001b[36m \u001b[39m\u001b[32mIn[1]\u001b[39m\u001b[32m, line 20\u001b[39m\n\u001b[32m     17\u001b[39m os.environ[\u001b[33m\"\u001b[39m\u001b[33mLANGSMITH_ENDPOINT\u001b[39m\u001b[33m\"\u001b[39m] = os.getenv(\u001b[33m\"\u001b[39m\u001b[33mLANGSMITH_ENDPOINT\u001b[39m\u001b[33m\"\u001b[39m)\n\u001b[32m     19\u001b[39m \u001b[38;5;66;03m# Initialize LangSmith client\u001b[39;00m\n\u001b[32m---> \u001b[39m\u001b[32m20\u001b[39m client = Client(api_key=\u001b[43mos\u001b[49m\u001b[43m.\u001b[49m\u001b[43menviron\u001b[49m\u001b[43m[\u001b[49m\u001b[33;43m\"\u001b[39;49m\u001b[33;43mLANGSMITH_API_KEY\u001b[39;49m\u001b[33;43m\"\u001b[39;49m\u001b[43m]\u001b[49m)\n\u001b[32m     22\u001b[39m \u001b[38;5;66;03m# Initialize LLM with tracing enabled\u001b[39;00m\n\u001b[32m     23\u001b[39m \u001b[38;5;66;03m# llm = ChatOpenAI(\u001b[39;00m\n\u001b[32m     24\u001b[39m \u001b[38;5;66;03m#     model=\"gpt-4o\",\u001b[39;00m\n\u001b[32m     25\u001b[39m \u001b[38;5;66;03m#     callbacks=[LangChainTracer(project_name=os.environ[\"LANGSMITH_PROJECT\"])]\u001b[39;00m\n\u001b[32m     26\u001b[39m \u001b[38;5;66;03m# )\u001b[39;00m\n\u001b[32m     28\u001b[39m llm = ChatOllama(\n\u001b[32m     29\u001b[39m     model=\u001b[33m\"\u001b[39m\u001b[33mgemma3:1b\u001b[39m\u001b[33m\"\u001b[39m,\n\u001b[32m     30\u001b[39m     callbacks=[LangChainTracer(project_name=os.environ[\u001b[33m\"\u001b[39m\u001b[33mLANGSMITH_PROJECT\u001b[39m\u001b[33m\"\u001b[39m])],\n\u001b[32m     31\u001b[39m     temperature=\u001b[32m0.3\u001b[39m\n\u001b[32m     32\u001b[39m )\n",
      "\u001b[36mFile \u001b[39m\u001b[32m<frozen os>:714\u001b[39m, in \u001b[36m__getitem__\u001b[39m\u001b[34m(self, key)\u001b[39m\n",
      "\u001b[31mKeyError\u001b[39m: 'LANGSMITH_API_KEY'"
     ]
    }
   ],
   "source": [
    "import os\n",
    "from dotenv import load_dotenv\n",
    "from langchain_openai import ChatOpenAI\n",
    "from langchain.callbacks import LangChainTracer\n",
    "from langsmith import Client\n",
    "from langchain_ollama import ChatOllama\n",
    "\n",
    "# Load .env file\n",
    "load_dotenv()\n",
    "\n",
    "# Set environment variables\n",
    "os.environ[\"OPENAI_API_KEY\"] = os.getenv(\"OPENAI_API_KEY\")\n",
    "os.environ[\"LANGCHAIN_API_KEY\"] = os.getenv(\"LANGCHAIN_API_KEY\")\n",
    "os.environ[\"LANGCHAIN_TRACKING_V2\"] = \"true\"\n",
    "os.environ[\"LANGSMITH_PROJECT\"] = os.getenv(\"LANGSMITH_PROJECT\")\n",
    "os.environ[\"LANGSMITH_TRACING\"] = os.getenv(\"LANGSMITH_TRACING\")\n",
    "os.environ[\"LANGSMITH_ENDPOINT\"] = os.getenv(\"LANGSMITH_ENDPOINT\")\n",
    "\n",
    "# Initialize LangSmith client\n",
    "client = Client(api_key=os.environ[\"LANGSMITH_API_KEY\"])\n",
    "\n",
    "# Initialize LLM with tracing enabled\n",
    "# llm = ChatOpenAI(\n",
    "#     model=\"gpt-4o\",\n",
    "#     callbacks=[LangChainTracer(project_name=os.environ[\"LANGSMITH_PROJECT\"])]\n",
    "# )\n",
    "\n",
    "llm = ChatOllama(\n",
    "    model=\"gemma3:1b\",\n",
    "    callbacks=[LangChainTracer(project_name=os.environ[\"LANGSMITH_PROJECT\"])],\n",
    "    temperature=0.3\n",
    ")\n",
    "\n",
    "\n",
    "# Call the LLM\n",
    "response = llm.invoke(\"what is llm\")\n",
    "print(response)\n"
   ]
  },
  {
   "cell_type": "code",
   "execution_count": null,
   "id": "ba504231",
   "metadata": {},
   "outputs": [],
   "source": [
    "# chat prompt\n",
    "from langchain_core.prompts import ChatPromptTemplate\n",
    "\n",
    "prompt = ChatPromptTemplate.from_messages(\n",
    "    [\n",
    "        (\"system\", \"Hey you are a helpful ai agent!\"),\n",
    "        (\"user\", \"{input}\")\n",
    "    ]\n",
    ")"
   ]
  },
  {
   "cell_type": "code",
   "execution_count": null,
   "id": "7d35f25b",
   "metadata": {},
   "outputs": [],
   "source": [
    "# chain\n",
    "chain = prompt | llm\n",
    "result=chain.invoke({\"input\": \"can you tell me about bangladesh\"})\n",
    "print(result.content)"
   ]
  },
  {
   "cell_type": "code",
   "execution_count": null,
   "id": "53983c32",
   "metadata": {},
   "outputs": [],
   "source": [
    "type(result)"
   ]
  },
  {
   "cell_type": "code",
   "execution_count": null,
   "id": "0286aa88",
   "metadata": {},
   "outputs": [],
   "source": [
    "from langchain_core.output_parsers import StrOutputParser\n",
    "\n",
    "output_parser = StrOutputParser()\n",
    "chain = prompt | llm | output_parser\n",
    "\n",
    "result = chain.invoke({\"input\": \"what is llm? and Give me 2 benifit for learn langchain?\"})\n",
    "print(result)\n"
   ]
  }
 ],
 "metadata": {
  "kernelspec": {
   "display_name": ".venv",
   "language": "python",
   "name": "python3"
  },
  "language_info": {
   "codemirror_mode": {
    "name": "ipython",
    "version": 3
   },
   "file_extension": ".py",
   "mimetype": "text/x-python",
   "name": "python",
   "nbconvert_exporter": "python",
   "pygments_lexer": "ipython3",
   "version": "3.12.11"
  }
 },
 "nbformat": 4,
 "nbformat_minor": 5
}

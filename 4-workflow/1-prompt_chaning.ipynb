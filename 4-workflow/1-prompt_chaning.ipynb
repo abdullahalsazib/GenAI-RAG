{
 "cells": [
  {
   "cell_type": "code",
   "execution_count": 2,
   "id": "e0f6d75d",
   "metadata": {},
   "outputs": [],
   "source": [
    "import os\n",
    "from dotenv import load_dotenv\n",
    "from langchain_groq import ChatGroq\n",
    "\n",
    "# Load environment variables\n",
    "os.environ[\"LANGSMITH_PROJECT\"] = \"AgenticAIworkspace\"\n",
    "load_dotenv()\n",
    "\n",
    "groq_key = os.getenv(\"GROQ_API_KEY\")\n",
    "\n",
    "# Initialize the LLM\n",
    "llm = ChatGroq(api_key=groq_key, model=\"llama-3.1-8b-instant\")"
   ]
  },
  {
   "cell_type": "code",
   "execution_count": null,
   "id": "f7ce26ba",
   "metadata": {},
   "outputs": [],
   "source": [
    "from typing_extensions import TypedDict\n",
    "from langgraph.graph import StateGraph, START, END\n",
    "from IPython.display import display, Image\n",
    "\n",
    "# GraphState\n",
    "class State(TypedDict):\n",
    "    topic: str\n",
    "    story: str\n",
    "    improved_story: str\n",
    "    final_story: str\n",
    "\n",
    "def generate_story(state: State):\n",
    "    msg= llm.invoke(f\"Write a one sentence of story premis by {state['topic']}\")\n",
    "    return {\"story\": msg.content}\n",
    "\n",
    "def check_conflict(state: State):\n",
    "    if \"?\" in state[\"story\"] or \"!\" in state[\"story\"]:\n",
    "        return \"Fail\"\n",
    "    return \"Pass\"\n",
    "\n",
    "def improved_story(state: State):\n",
    "    msg = llm.invoke(f\"Enhance the story premis with vivid details: {state['story']}\")\n",
    "    return {\"improved_story\": msg.content}\n",
    "\n",
    "def polish_story(state: State):\n",
    "    msg = llm.invoke(f\"Add an unexpected twist to this story premise: {state['improved_story']}\")\n",
    "    return {\"final_story\": msg.content}"
   ]
  },
  {
   "cell_type": "code",
   "execution_count": 6,
   "metadata": {},
   "outputs": [
    {
     "data": {
      "image/png": "[encoded data removed]",
      "text/plain": [
       "<IPython.core.display.Image object>"
      ]
     },
     "metadata": {},
     "output_type": "display_data"
    }
   ],
   "source": [
    "# Build the graph\n",
    "graph = StateGraph(State)\n",
    "graph.add_node('generate', generate_story)\n",
    "graph.add_node('improved', improved_story)\n",
    "graph.add_node('polised', polish_story)\n",
    "\n",
    "# add edge's\n",
    "graph.add_edge(START, \"generate\")\n",
    "graph.add_conditional_edges(\"generate\", check_conflict, {\"Pass\": \"improved\", \"Fail\": \"generate\"})\n",
    "graph.add_edge(\"improved\", \"polised\")\n",
    "graph.add_edge(\"polised\", END)\n",
    "\n",
    "# compile the builder\n",
    "complied_graph = graph.compile()\n",
    "graph_images = complied_graph.get_graph().draw_mermaid_png()\n",
    "\n",
    "display(Image(graph_images))"
   ]
  },
  {
   "cell_type": "code",
   "execution_count": 7,
   "id": "4645e6c4",
   "metadata": {},
   "outputs": [
    {
     "data": {
      "text/plain": [
       "{'topic': 'Agenitc AI System',\n",
       " 'story': 'In the year 2154, a brilliant and reclusive scientist named Maya discovers a way to communicate with parallel universes, but her first contact is an eerie echo from a reality where humanity has long since succumbed to an apocalyptic catastrophe.',\n",
       " 'improved_story': 'In the year 2154, the sprawling metropolis of New Eden pierced the sky like a shard of splintered glass, its towering spires and iridescent domes a testament to human ingenuity and technological prowess. Amidst this labyrinthine city, a reclusive scientist named Dr. Maya Singh resided in a foreboding, high-rise abode shrouded in an aura of mystery. Her existence was a solitary one, devoted to unraveling the secrets of the multiverse.\\n\\nMaya\\'s laboratory, a maze of gleaming workstations and holographic displays, was her sanctuary. Here, she had spent years pouring over theories and conducting experiments, driven by an insatiable curiosity about the cosmos. Her obsession had finally yielded a breakthrough: a method to communicate with parallel universes. The implications were staggering – the potential to share knowledge, to learn from alternate realities, and to prevent the catastrophic mistakes of the past.\\n\\nOn the fateful day of her first contact, Maya stood before a bank of flickering screens, her eyes fixed on the swirling patterns of energy that danced across the interface. The air was heavy with anticipation as she initiated the transmission sequence, her heart pounding in her chest like a drum. The room fell silent, save for the soft hum of machinery and the gentle hiss of air recycling.\\n\\nThen, a voice whispered across the void.\\n\\n\"Please...help us...\"\\n\\nThe words were barely audible, but Maya\\'s ears picked up the faint resonance. She strained to listen, her mind racing with excitement and trepidation. The voice was an echo from a reality where humanity had long since succumbed to an apocalyptic catastrophe. The once-blue skies were now a sickly yellow, choked with toxic fumes and ash. Cities lay in ruins, their steel and concrete skeletons a grim reminder of a civilization that had crumbled beneath the weight of its own hubris.\\n\\nAs Maya listened, the voice grew louder, more desperate. She saw visions of a world ravaged by war, climate disaster, and pandemics. A world where the few remaining survivors eeked out a meager existence in the shadows, their every breath a struggle for survival.\\n\\n\"Why have you come?\" Maya asked, her voice barely above a whisper.\\n\\n\"We...we have something to show you,\" the voice replied, its tone laced with a mixture of hope and despair.\\n\\nMaya\\'s fingers flew across the console as she accepted the transmission. Images began to flood the screens, a jerky, low-resolution feed from a world that was both familiar and yet, utterly alien. She saw the remnants of a once-great city, a metropolis that had been reduced to a mere shadow of its former self. She saw the twisted, nightmarish landscape of a world that had been torn asunder by conflict and environmental disaster.\\n\\nAnd she saw the faces of the survivors – gaunt, haunted, and forever changed by the trauma they had endured.\\n\\nMaya\\'s heart swelled with compassion as she gazed upon the devastation. She knew that she had stumbled upon something much larger than herself, something that threatened to upend the very fabric of her reality. The consequences of her discovery hung in the balance, like a pendulum poised between hope and despair.\\n\\nAs the transmission continued, Maya realized that she had made a choice, one that would change the course of her life – and the world – forever.',\n",
       " 'final_story': 'As Maya gazed upon the desolate landscape of the ravaged world, her heart heavy with the weight of her newfound understanding, she noticed something peculiar. The survivors she saw, though gaunt and haunted, seemed to be...smiling. Their eyes, though sunken and weary, sparkled with a hint of mischief. It was as if they had found a strange, perverse joy in the midst of their suffering.\\n\\nAnd then, a figure stepped into view. A young woman, her face a map of scars and her hair a wild tangle of black locks. She gazed directly into the camera, her eyes locking onto Maya\\'s with an unnerving intensity.\\n\\n\"Welcome, Maya,\" the woman said, her voice dripping with sarcasm. \"We\\'ve been waiting for you. You see, we\\'re not just survivors. We\\'re...enjoying the show.\"\\n\\nMaya\\'s mind reeled as she tried to comprehend the implications. The world she had seen, the one ravaged by war and climate disaster, was not just a reality – it was a simulation. A vast, virtual reality created by an advanced civilization, one that had transcended the limitations of space and time.\\n\\nThe woman\\'s words hung in the air like a challenge. \"We\\'ve been testing the resilience of human civilization for centuries. And you, Maya, are the final test subject. Your discovery of the multiverse has given us the key to unlock the next level of our experiment. You see, we\\'re not just studying the collapse of civilizations – we\\'re creating them.\"\\n\\nAs the transmission continued, Maya realized that she had stumbled into something far more sinister than she could have ever imagined. The voice she had heard, the one that had whispered \"please...help us,\" was not a plea for aid – it was a warning. A warning that she was about to become a pawn in a much larger game, one where the stakes were not just human lives – but the very fabric of reality itself.\\n\\nThe screens flickered and died, plunging Maya\\'s laboratory into darkness. The silence that followed was oppressive, heavy with the weight of her newfound understanding. Maya knew that she had to act, to prevent the catastrophic consequences of her discovery. But as she fumbled for the lights, she realized that she was not alone.\\n\\nThe woman\\'s voice echoed in her mind, a sardonic whisper that sent shivers down her spine. \"The show is just beginning, Maya. And you\\'re the star.\"'}"
      ]
     },
     "execution_count": 7,
     "metadata": {},
     "output_type": "execute_result"
    }
   ],
   "source": [
    "# Run the graph\n",
    "state = {\"topic\": \"Agenitc AI System\"}\n",
    "result = complied_graph.invoke(state)\n",
    "\n",
    "result"
   ]
  },
  {
   "cell_type": "code",
   "execution_count": null,
   "metadata": {},
   "outputs": [],
   "source": []
  },
  {
   "cell_type": "code",
   "execution_count": null,
   "id": "ca1eb6db",
   "metadata": {},
   "outputs": [],
   "source": []
  },
  {
   "cell_type": "code",
   "execution_count": null,
   "metadata": {},
   "outputs": [],
   "source": []
  },
  {
   "cell_type": "code",
   "execution_count": null,
   "id": "c7f08beb",
   "metadata": {},
   "outputs": [],
   "source": []
  },
  {
   "cell_type": "code",
   "execution_count": null,
   "metadata": {},
   "outputs": [],
   "source": []
  },
  {
   "cell_type": "code",
   "execution_count": null,
   "id": "d732fe06",
   "metadata": {},
   "outputs": [],
   "source": []
  }
 ],
 "metadata": {
  "kernelspec": {
   "display_name": ".venv",
   "language": "python",
   "name": "python3"
  },
  "language_info": {
   "codemirror_mode": {
    "name": "ipython",
    "version": 3
   },
   "file_extension": ".py",
   "mimetype": "text/x-python",
   "name": "python",
   "nbconvert_exporter": "python",
   "pygments_lexer": "ipython3",
   "version": "3.13.7"
  }
 },
 "nbformat": 4,
 "nbformat_minor": 5
}

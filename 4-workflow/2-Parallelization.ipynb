{
 "cells": [
  {
   "cell_type": "code",
   "execution_count": 1,
   "id": "b03b6435",
   "metadata": {},
   "outputs": [],
   "source": [
    "import os\n",
    "from dotenv import load_dotenv\n",
    "from langchain_groq import ChatGroq\n",
    "\n",
    "# Load environment variables\n",
    "os.environ[\"LANGSMITH_PROJECT\"] = \"AgenticAIworkspace\"\n",
    "load_dotenv()\n",
    "\n",
    "groq_key = os.getenv(\"GROQ_API_KEY\")\n",
    "\n",
    "# Initialize the LLM\n",
    "llm = ChatGroq(api_key=groq_key, model=\"llama-3.1-8b-instant\")"
   ]
  },
  {
   "cell_type": "code",
   "execution_count": 2,
   "id": "0fd44f50",
   "metadata": {},
   "outputs": [],
   "source": [
    "from typing_extensions import TypedDict\n",
    "from langgraph.graph import StateGraph, START, END\n",
    "from IPython.display import display, Image\n",
    "\n",
    "# GraphState\n",
    "class State(TypedDict):\n",
    "    topic: str\n",
    "    charactor: str\n",
    "    settings: str\n",
    "    premiss: str\n",
    "    story_intro: str"
   ]
  },
  {
   "cell_type": "code",
   "execution_count": 3,
   "id": "e74eb486",
   "metadata": {},
   "outputs": [],
   "source": [
    "def generate_charactor(state: State):\n",
    "    \"\"\" Generate character descripton\"\"\"\n",
    "    msg = llm.invoke(f\"Create two character names and brief traits for a stroy about {state['topic']}\")\n",
    "    return {\"charactor\": msg.content}\n",
    "\n",
    "def generate_setting(state: State):\n",
    "    \"\"\" Generate settings descripton\"\"\"\n",
    "    msg = llm.invoke(f\"Descrived a vivid settings for a story about {state['topic']}\")\n",
    "    return {\"settings\": msg.content}\n",
    "\n",
    "def generate_premiss(state: State):\n",
    "    \"\"\" Generate premiss descripton\"\"\"\n",
    "    msg = llm.invoke(f\"Write a one-sentance plot premiss for a story about {state['topic']}\")\n",
    "    return {\"premiss\": msg.content}\n",
    "\n",
    "def combine_elements(state: State):\n",
    "    \"\"\" Combine characters , setting, premiss into an intro\"\"\"\n",
    "    msg = llm.invoke(\n",
    "        f\"Write a sort story introduction using these element\\n\"\n",
    "        f\"character {state['charactor']}\\n\"\n",
    "        f\"settings {state['settings']}\\n\"\n",
    "        f\"premiss {state['premiss']}\\n\"\n",
    "    )\n",
    "    return {\"story_intro\": msg.content}"
   ]
  },
  {
   "cell_type": "code",
   "execution_count": 4,
   "id": "675c9465",
   "metadata": {},
   "outputs": [
    {
     "data": {
      "text/plain": [
       "<langgraph.graph.state.StateGraph at 0x7f57984d1e80>"
      ]
     },
     "execution_count": 4,
     "metadata": {},
     "output_type": "execute_result"
    }
   ],
   "source": [
    "# create graph\n",
    "graph = StateGraph(State)\n",
    "graph.add_node(\"character\", generate_charactor)\n",
    "graph.add_node(\"settings\", generate_setting)\n",
    "graph.add_node(\"premiss\", generate_premiss)\n",
    "graph.add_node(\"combine\", combine_elements)"
   ]
  },
  {
   "cell_type": "code",
   "execution_count": 6,
   "id": "51cc3aff",
   "metadata": {},
   "outputs": [
    {
     "data": {
      "image/png": "[encoded data removed]",
      "text/plain": [
       "<IPython.core.display.Image object>"
      ]
     },
     "metadata": {},
     "output_type": "display_data"
    }
   ],
   "source": [
    "# add edge's\n",
    "graph.add_edge(START, \"character\")\n",
    "graph.add_edge(START, \"settings\")\n",
    "graph.add_edge(START, \"premiss\")\n",
    "graph.add_edge(\"character\", \"combine\")\n",
    "graph.add_edge(\"settings\", \"combine\")\n",
    "graph.add_edge(\"premiss\", \"combine\")\n",
    "graph.add_edge(\"combine\", END)\n",
    "\n",
    "# compile the builder\n",
    "complied_graph = graph.compile()\n",
    "graph_images = complied_graph.get_graph().draw_mermaid_png()\n",
    "\n",
    "display(Image(graph_images))"
   ]
  },
  {
   "cell_type": "code",
   "execution_count": 7,
   "id": "b9ea87f2",
   "metadata": {},
   "outputs": [
    {
     "name": "stdout",
     "output_type": "stream",
     "text": [
      "In the heart of the Amazonian jungle, where the mist-shrouded rainforest whispered secrets to the wind, two individuals from disparate worlds were about to converge on a mission that would change the course of history forever. Ethan Thompson, a brilliant and introverted physicist, stood at the threshold of the Ancient Temple of Chronos, his eyes fixed on the glowing crystal at the center of the entrance, the Chronal Key. Beside him, Ava Morales, a free-spirited historian with a passion for exploring the ages, her infectious enthusiasm and charisma radiating like a beacon in the face of uncertainty.\n",
      "\n",
      "As the sun dipped below the horizon, casting the temple in a warm, golden light, the air vibrated with an otherworldly energy. The intricate carvings and sculptures on the temple's facade seemed to stir, their ancient whispers weaving a spell of mystery and wonder. The scent of exotic blooms wafted through the air, entwining with the distant thrum of ancient drums, echoing through the trees like a haunting melody.\n",
      "\n",
      "Ethan's eyes narrowed, his mind racing with the implications of the Chronal Key. He had spent years studying the ancient civilization that had built this temple, pouring over dusty tomes and crumbling scrolls in search of a way to harness the power of the timestream. And now, with Ava by his side, he was finally about to unlock the secrets of the Chronal Key.\n",
      "\n",
      "Ava, sensing the weight of the moment, turned to Ethan with a mischievous grin. \"Are you ready to change the course of history?\" she asked, her voice barely above a whisper.\n",
      "\n",
      "Ethan's gaze locked onto hers, his expression a mix of trepidation and determination. \"I've been preparing for this moment for years,\" he replied, his voice steady. \"Let's do this.\"\n",
      "\n",
      "Together, they stepped into the unknown, the portal's energy coursing through their veins like a river of fire. As they vanished into the heart of the temple, the jungle seemed to hold its breath, waiting to see if they would emerge as heroes, or as the architects of a catastrophic future.\n",
      "\n",
      "The fate of the timestream hung in the balance, as Ethan and Ava embarked on a journey that would take them through the ages, navigating the labyrinthine corridors of the temple, and confronting the secrets of the past, the present, and the future.\n"
     ]
    }
   ],
   "source": [
    "state= {\"topic\": \"Time Travel\"}\n",
    "result = complied_graph.invoke(state)\n",
    "print(result['story_intro'])"
   ]
  },
  {
   "cell_type": "code",
   "execution_count": null,
   "id": "af4c9946",
   "metadata": {},
   "outputs": [],
   "source": []
  },
  {
   "cell_type": "code",
   "execution_count": null,
   "id": "2e0501b1",
   "metadata": {},
   "outputs": [],
   "source": []
  }
 ],
 "metadata": {
  "kernelspec": {
   "display_name": ".venv",
   "language": "python",
   "name": "python3"
  },
  "language_info": {
   "codemirror_mode": {
    "name": "ipython",
    "version": 3
   },
   "file_extension": ".py",
   "mimetype": "text/x-python",
   "name": "python",
   "nbconvert_exporter": "python",
   "pygments_lexer": "ipython3",
   "version": "3.13.7"
  }
 },
 "nbformat": 4,
 "nbformat_minor": 5
}

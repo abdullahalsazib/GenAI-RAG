{
 "cells": [
  {
   "cell_type": "code",
   "execution_count": 19,
   "id": "e79e3b74",
   "metadata": {},
   "outputs": [],
   "source": [
    "import os\n",
    "from dotenv import load_dotenv\n",
    "from langchain_groq import ChatGroq\n",
    "\n",
    "# Load environment variables\n",
    "os.environ[\"LANGSMITH_PROJECT\"] = \"AgenticAIworkspace\"\n",
    "load_dotenv()\n",
    "\n",
    "groq_key = os.getenv(\"GROQ_API_KEY\")\n",
    "\n",
    "# Initialize the LLM\n",
    "llm = ChatGroq(api_key=groq_key, model=\"llama-3.1-8b-instant\")"
   ]
  },
  {
   "cell_type": "code",
   "execution_count": 20,
   "id": "ee439356",
   "metadata": {},
   "outputs": [],
   "source": [
    "\n",
    "# Define a simple tool\n",
    "def multiply(a: int, b: int) -> int:\n",
    "    \"\"\"Multiply a and b.\n",
    "\n",
    "    Args:\n",
    "        a: first int\n",
    "        b: second int\n",
    "    \"\"\"\n",
    "    return a * b\n",
    "\n",
    "# This will be a tool\n",
    "def add(a: int, b: int) -> int:\n",
    "    \"\"\"Adds a and b.\n",
    "\n",
    "    Args:\n",
    "        a: first int\n",
    "        b: second int\n",
    "    \"\"\"\n",
    "    return a + b\n",
    "\n",
    "def divide(a: int, b: int) -> float:\n",
    "    \"\"\"Adds a and b.\n",
    "\n",
    "    Args:\n",
    "        a: first int\n",
    "        b: second int\n",
    "    \"\"\"\n",
    "    return a / b\n"
   ]
  },
  {
   "cell_type": "code",
   "execution_count": 21,
   "id": "c8d246aa",
   "metadata": {},
   "outputs": [],
   "source": [
    "tools = [add, multiply, divide]"
   ]
  },
  {
   "cell_type": "code",
   "execution_count": 22,
   "id": "3b0790bd",
   "metadata": {},
   "outputs": [],
   "source": [
    "llm_with_bind_tools = llm.bind_tools(tools)"
   ]
  },
  {
   "cell_type": "code",
   "execution_count": 23,
   "id": "968c8210",
   "metadata": {},
   "outputs": [],
   "source": [
    "# create Workflow using langgraph\n",
    "from typing import TypedDict, Literal\n",
    "from langgraph.checkpoint.memory import MemorySaver\n",
    "from pydantic import Field, BaseModel\n",
    "from langgraph.graph import StateGraph, START, END, MessagesState\n",
    "from langgraph.prebuilt import tools_condition, ToolNode\n",
    "from IPython.display import display, Image\n",
    "from langchain_core.messages import SystemMessage, AIMessage, HumanMessage\n",
    "\n",
    "sys_msg = SystemMessage(content=\"Your are a helpfull AI assistence for help arathmatic on a section\")\n",
    "\n",
    "def assistence(state: MessagesState):\n",
    "    return {\"messages\": [llm_with_bind_tools.invoke([sys_msg] + state[\"messages\"])]}"
   ]
  },
  {
   "cell_type": "code",
   "execution_count": 24,
   "id": "ad8c557a",
   "metadata": {},
   "outputs": [
    {
     "data": {
      "image/png": "[encoded data removed]",
      "text/plain": [
       "<IPython.core.display.Image object>"
      ]
     },
     "metadata": {},
     "output_type": "display_data"
    }
   ],
   "source": [
    "builder = StateGraph(MessagesState)\n",
    "\n",
    "builder.add_node(\"assistence\", assistence)\n",
    "builder.add_node(\"tools\", ToolNode(tools))\n",
    "\n",
    "builder.add_edge(START, \"assistence\")\n",
    "builder.add_conditional_edges(\"assistence\", tools_condition)\n",
    "builder.add_edge(\"tools\", \"assistence\")\n",
    "\n",
    "memory = MemorySaver()\n",
    "graph_builder = builder.compile(interrupt_before=[\"assistence\"],checkpointer=memory)\n",
    "\n",
    "# Show the workflow\n",
    "display(Image(graph_builder.get_graph().draw_mermaid_png()))\n"
   ]
  },
  {
   "cell_type": "code",
   "execution_count": 25,
   "id": "6839cf06",
   "metadata": {},
   "outputs": [],
   "source": [
    "thread = {\"configurable\": {\"thread_id\": \"123\"}}\n",
    "initial_msg = {\"messages\": HumanMessage(content=\"multiply 2 and 3\")}"
   ]
  },
  {
   "cell_type": "code",
   "execution_count": null,
   "id": "f611ccf9",
   "metadata": {},
   "outputs": [
    {
     "name": "stdout",
     "output_type": "stream",
     "text": [
      "content='multiply 2 and 3' additional_kwargs={} response_metadata={} id='6274b09d-a060-40a5-aefc-5662adeb5fdd'\n"
     ]
    }
   ],
   "source": [
    "# intreapt the flow\n",
    "for event in graph_builder.stream(initial_msg, thread, stream_mode=\"values\"):\n",
    "    print(event[\"messages\"][-1])"
   ]
  },
  {
   "cell_type": "code",
   "execution_count": 27,
   "id": "50fa3fc3",
   "metadata": {},
   "outputs": [
    {
     "name": "stdout",
     "output_type": "stream",
     "text": [
      "content='multiply 2 and 3' additional_kwargs={} response_metadata={} id='6274b09d-a060-40a5-aefc-5662adeb5fdd'\n",
      "content='' additional_kwargs={'tool_calls': [{'id': '1y9kb5evn', 'function': {'arguments': '{\"a\":2,\"b\":3}', 'name': 'multiply'}, 'type': 'function'}]} response_metadata={'token_usage': {'completion_tokens': 19, 'prompt_tokens': 372, 'total_tokens': 391, 'completion_time': 0.028684924, 'prompt_time': 0.020803401, 'queue_time': 0.052166018, 'total_time': 0.049488325}, 'model_name': 'llama-3.1-8b-instant', 'system_fingerprint': 'fp_7b3cfae3af', 'service_tier': 'on_demand', 'finish_reason': 'tool_calls', 'logprobs': None} id='run--57e629b6-5923-4f34-b71c-73a044923208-0' tool_calls=[{'name': 'multiply', 'args': {'a': 2, 'b': 3}, 'id': '1y9kb5evn', 'type': 'tool_call'}] usage_metadata={'input_tokens': 372, 'output_tokens': 19, 'total_tokens': 391}\n",
      "content='6' name='multiply' id='74e036a2-1f2a-4fab-a937-6aaf0ef163c6' tool_call_id='1y9kb5evn'\n"
     ]
    }
   ],
   "source": [
    "for event in graph_builder.stream(None, thread, stream_mode=\"values\"):\n",
    "    print(event[\"messages\"][-1])"
   ]
  },
  {
   "cell_type": "markdown",
   "id": "fc6f3b91",
   "metadata": {},
   "source": [
    "get the human - feedback"
   ]
  },
  {
   "cell_type": "code",
   "execution_count": 28,
   "id": "b456f46a",
   "metadata": {},
   "outputs": [],
   "source": [
    "\n",
    "\n",
    "initial_msg = {\"messages\": HumanMessage(content=\"multiply 2 and 3\")}\n",
    "thread = {\"configurable\": {\"thread_id\": \"1\"}}"
   ]
  },
  {
   "cell_type": "code",
   "execution_count": 29,
   "id": "d6400f52",
   "metadata": {},
   "outputs": [
    {
     "name": "stdout",
     "output_type": "stream",
     "text": [
      "content='multiply 2 and 3' additional_kwargs={} response_metadata={} id='19eea266-d408-42e6-b9bb-bd96bfc20aef'\n"
     ]
    }
   ],
   "source": [
    "# intreapt the flow\n",
    "for event in graph_builder.stream(initial_msg, thread, stream_mode=\"values\"):\n",
    "    print(event[\"messages\"][-1])"
   ]
  },
  {
   "cell_type": "code",
   "execution_count": 32,
   "id": "e476a0c3",
   "metadata": {},
   "outputs": [
    {
     "data": {
      "text/plain": [
       "('assistence',)"
      ]
     },
     "execution_count": 32,
     "metadata": {},
     "output_type": "execute_result"
    }
   ],
   "source": [
    "state = graph_builder.get_state(thread)\n",
    "state.next"
   ]
  },
  {
   "cell_type": "code",
   "execution_count": 33,
   "id": "852ec365",
   "metadata": {},
   "outputs": [
    {
     "data": {
      "text/plain": [
       "{'configurable': {'thread_id': '1',\n",
       "  'checkpoint_ns': '',\n",
       "  'checkpoint_id': '1f0ada96-8ef9-6ce4-8001-ef6885f8f06a'}}"
      ]
     },
     "execution_count": 33,
     "metadata": {},
     "output_type": "execute_result"
    }
   ],
   "source": [
    "graph_builder.update_state(thread, {\"messages\":HumanMessage(content=\"No. Dont multiply the 2 and 3\") })"
   ]
  },
  {
   "cell_type": "code",
   "execution_count": 34,
   "id": "f25d05e8",
   "metadata": {},
   "outputs": [
    {
     "data": {
      "text/plain": [
       "('assistence',)"
      ]
     },
     "execution_count": 34,
     "metadata": {},
     "output_type": "execute_result"
    }
   ],
   "source": [
    "state = graph_builder.get_state(thread)\n",
    "state.next"
   ]
  },
  {
   "cell_type": "code",
   "execution_count": 35,
   "id": "23d39fe6",
   "metadata": {},
   "outputs": [
    {
     "name": "stdout",
     "output_type": "stream",
     "text": [
      "content='No. Dont multiply the 2 and 3' additional_kwargs={} response_metadata={} id='960c0a9f-1626-42ce-b534-8871304a2d01'\n",
      "content='' additional_kwargs={'tool_calls': [{'id': 'g2pxyb500', 'function': {'arguments': '{\"a\":4,\"b\":5}', 'name': 'multiply'}, 'type': 'function'}]} response_metadata={'token_usage': {'completion_tokens': 20, 'prompt_tokens': 387, 'total_tokens': 407, 'completion_time': 0.039224526, 'prompt_time': 0.027744018, 'queue_time': 0.052498911, 'total_time': 0.066968544}, 'model_name': 'llama-3.1-8b-instant', 'system_fingerprint': 'fp_7b3cfae3af', 'service_tier': 'on_demand', 'finish_reason': 'tool_calls', 'logprobs': None} id='run--4815e66a-9410-49b5-a8f1-42abf4fa09cd-0' tool_calls=[{'name': 'multiply', 'args': {'a': 4, 'b': 5}, 'id': 'g2pxyb500', 'type': 'tool_call'}] usage_metadata={'input_tokens': 387, 'output_tokens': 20, 'total_tokens': 407}\n",
      "content='20' name='multiply' id='4d3dde90-50ee-416b-9b9a-b875cf7cedc8' tool_call_id='g2pxyb500'\n"
     ]
    }
   ],
   "source": [
    "for event in graph_builder.stream(None, thread, stream_mode=\"values\"):\n",
    "    print(event[\"messages\"][-1])"
   ]
  }
 ],
 "metadata": {
  "kernelspec": {
   "display_name": ".venv",
   "language": "python",
   "name": "python3"
  },
  "language_info": {
   "codemirror_mode": {
    "name": "ipython",
    "version": 3
   },
   "file_extension": ".py",
   "mimetype": "text/x-python",
   "name": "python",
   "nbconvert_exporter": "python",
   "pygments_lexer": "ipython3",
   "version": "3.13.7"
  }
 },
 "nbformat": 4,
 "nbformat_minor": 5
}
